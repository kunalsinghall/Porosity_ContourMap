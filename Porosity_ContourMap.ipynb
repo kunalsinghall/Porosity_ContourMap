{
 "cells": [
  {
   "cell_type": "code",
   "execution_count": 1,
   "metadata": {},
   "outputs": [],
   "source": [
    "import numpy as np\n",
    "import matplotlib.pyplot as plt\n",
    "\n",
    "def contour_plot(filename):\n",
    "    \n",
    "#Reading the porosity data from the dat file\n",
    "\n",
    "    data = (np.loadtxt(filename))\n",
    "    \n",
    "#Making two empty lists to account for the size of each grid block\n",
    "\n",
    "    x1=[]\n",
    "    for i in range(1,55):\n",
    "        x1.append(i*130.75)\n",
    "        \n",
    "    x2=[]\n",
    "    for j in range(1,45):\n",
    "        x2.append(j*130.75)\n",
    "        \n",
    "#Using pyplot.contourf() to make contours using the porosity values and pyplot.colorbar() to show the chart for correlation\n",
    "\n",
    "    plt.contourf(x1, x2, data[::-1])\n",
    "    plt.colorbar()\n",
    "    plt.title(\"Porosity\")\n",
    "    plt.savefig('Porosity.png',bbox_inches='tight')\n",
    "    \n",
    "contour_plot(\"Nechelik.dat\")"
   ]
  },
  {
   "cell_type": "code",
   "execution_count": null,
   "metadata": {},
   "outputs": [],
   "source": []
  }
 ],
 "metadata": {
  "kernelspec": {
   "display_name": "Python 3",
   "language": "python",
   "name": "python3"
  },
  "language_info": {
   "codemirror_mode": {
    "name": "ipython",
    "version": 3
   },
   "file_extension": ".py",
   "mimetype": "text/x-python",
   "name": "python",
   "nbconvert_exporter": "python",
   "pygments_lexer": "ipython3",
   "version": "3.7.1"
  }
 },
 "nbformat": 4,
 "nbformat_minor": 2
}
